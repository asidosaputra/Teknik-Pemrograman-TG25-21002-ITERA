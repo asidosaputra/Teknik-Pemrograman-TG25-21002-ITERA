{
 "cells": [
  {
   "cell_type": "markdown",
   "id": "6109ff8c",
   "metadata": {},
   "source": [
    "RAHMAT SATRIO ZAMZANI_123120125_RTGA"
   ]
  },
  {
   "cell_type": "code",
   "execution_count": 1,
   "id": "3a96e582",
   "metadata": {},
   "outputs": [
    {
     "name": "stdout",
     "output_type": "stream",
     "text": [
      "Tidak termasuk bilangan\n"
     ]
    }
   ],
   "source": [
    "bilangan = 7.9\n",
    "\n",
    "\n",
    "if (bilangan % 2) == 1:\n",
    "  print(\"Bilangan Ganjil\")\n",
    "  bilangan = bilangan**2\n",
    "  print(bilangan)\n",
    "\n",
    "elif  (bilangan % 2) == 0:\n",
    "  print(\"Bilangan Genap\")\n",
    "\n",
    "else:\n",
    "  print(\"Tidak termasuk bilangan\")"
   ]
  },
  {
   "cell_type": "code",
   "execution_count": 4,
   "id": "2f9b3d36",
   "metadata": {},
   "outputs": [
    {
     "name": "stdout",
     "output_type": "stream",
     "text": [
      "Remedial\n"
     ]
    }
   ],
   "source": [
    "nilai = 49\n",
    "\n",
    "if nilai >= 90:\n",
    "  print(\"A\")\n",
    "\n",
    "elif nilai >= 80:\n",
    "  print(\"AB\")\n",
    "\n",
    "elif nilai >= 70:\n",
    "  print(\"B\")\n",
    "\n",
    "elif nilai >= 60:\n",
    "  print(\"BC\")\n",
    "\n",
    "else:\n",
    "  print(\"Remedial\")"
   ]
  },
  {
   "cell_type": "code",
   "execution_count": 8,
   "id": "7efa9443",
   "metadata": {},
   "outputs": [
    {
     "name": "stdout",
     "output_type": "stream",
     "text": [
      "Total diskon adalah 22.0, Terimakasih!\n",
      "total belanja :  88.0\n"
     ]
    }
   ],
   "source": [
    "Belanja = 110.000\n",
    "pake_kupon = True\n",
    "\n",
    "if Belanja >= 100.000:\n",
    "  if pake_kupon:\n",
    "    diskon = 0.2*Belanja\n",
    "    print(f\"Total diskon adalah {diskon}, Terimakasih!\")\n",
    "    Belanja = Belanja - diskon\n",
    "    print(\"total belanja : \", Belanja)\n",
    "\n",
    "  else:\n",
    "    print(\"total belanja : \", Belanja)\n",
    "\n",
    "else:\n",
    "  print(\"Belanja kurang dari 100.000\")"
   ]
  },
  {
   "cell_type": "code",
   "execution_count": 6,
   "id": "9964c671",
   "metadata": {},
   "outputs": [
    {
     "name": "stdout",
     "output_type": "stream",
     "text": [
      "1\n",
      "2\n",
      "3\n",
      "4\n",
      "5\n",
      "6\n",
      "7\n",
      "8\n",
      "9\n",
      "10\n",
      "11\n",
      "12\n",
      "13\n",
      "14\n",
      "15\n",
      "16\n",
      "17\n",
      "18\n",
      "19\n",
      "20\n",
      "21\n",
      "22\n",
      "23\n",
      "24\n",
      "25\n",
      "26\n",
      "27\n",
      "28\n",
      "29\n",
      "30\n",
      "31\n",
      "32\n",
      "33\n",
      "34\n",
      "35\n",
      "36\n",
      "37\n",
      "38\n",
      "39\n",
      "40\n",
      "41\n",
      "42\n",
      "43\n",
      "44\n",
      "45\n",
      "46\n",
      "47\n",
      "48\n",
      "49\n",
      "50\n"
     ]
    }
   ],
   "source": [
    "i=0\n",
    "while i >= 0:\n",
    "    i = i + 1\n",
    "    print (i)\n",
    "    if i >= 50:\n",
    "        break"
   ]
  },
  {
   "cell_type": "code",
   "execution_count": 9,
   "id": "2d98bd34",
   "metadata": {},
   "outputs": [
    {
     "name": "stdout",
     "output_type": "stream",
     "text": [
      "1\n",
      "9\n",
      "25\n",
      "49\n",
      "81\n",
      "121\n",
      "169\n",
      "225\n",
      "289\n",
      "361\n",
      "441\n",
      "529\n",
      "625\n",
      "729\n",
      "841\n",
      "961\n",
      "1089\n",
      "1225\n",
      "1369\n",
      "1521\n",
      "1681\n",
      "1849\n",
      "2025\n",
      "2209\n",
      "2401\n"
     ]
    }
   ],
   "source": [
    "for i in range(1, 50, 2):\n",
    "    i **= 2\n",
    "\n",
    "    print(i)"
   ]
  },
  {
   "cell_type": "code",
   "execution_count": 12,
   "id": "4eb1d6b8",
   "metadata": {},
   "outputs": [
    {
     "name": "stdout",
     "output_type": "stream",
     "text": [
      "Bilangan 1 adalah ganjil\n",
      "Bilangan 3 adalah ganjil\n",
      "Bilangan 5 adalah ganjil\n",
      "Bilangan 7 adalah ganjil\n",
      "Bilangan 9 adalah ganjil\n",
      "Bilangan 11 adalah ganjil\n",
      "Bilangan 13 adalah ganjil\n",
      "Bilangan 15 adalah ganjil\n",
      "Bilangan 17 adalah ganjil\n",
      "Bilangan 19 adalah ganjil\n",
      "Bilangan 21 adalah ganjil\n",
      "Bilangan 23 adalah ganjil\n",
      "Bilangan 25 adalah ganjil\n",
      "Bilangan 27 adalah ganjil\n",
      "Bilangan 29 adalah ganjil\n",
      "Bilangan 31 adalah ganjil\n",
      "Bilangan 33 adalah ganjil\n",
      "Bilangan 35 adalah ganjil\n",
      "Bilangan 37 adalah ganjil\n",
      "Bilangan 39 adalah ganjil\n",
      "Bilangan 41 adalah ganjil\n",
      "Bilangan 43 adalah ganjil\n",
      "Bilangan 45 adalah ganjil\n",
      "Bilangan 47 adalah ganjil\n",
      "Bilangan 49 adalah ganjil\n"
     ]
    }
   ],
   "source": [
    "for i in range (1, 50, 2):\n",
    "    if i % 2 == 0:\n",
    "        print(f\"Bilangan {i} adalah genap\")\n",
    "    elif i % 2 != 0:\n",
    "        print(f\"Bilangan {i} adalah ganjil\")\n",
    "    else:\n",
    "        print(f\"Bilangan {i} bukan bilangan bulat\")"
   ]
  },
  {
   "cell_type": "code",
   "execution_count": null,
   "id": "c2a6a27a",
   "metadata": {},
   "outputs": [
    {
     "name": "stdout",
     "output_type": "stream",
     "text": [
      "Login Berhasil!\n"
     ]
    }
   ],
   "source": [
    "#Challange 1\n",
    "username = \"rahmat\"\n",
    "password = \"123120125\"\n",
    "\n",
    "login = True\n",
    "\n",
    "count = 0\n",
    "while login:\n",
    "  input_username = input(\"username :\")\n",
    "  input_password = input(\"password :\")\n",
    "\n",
    "  count = count + 1\n",
    "\n",
    "  if input_username == username and input_password == password:\n",
    "    print(\"Login Berhasil!\")\n",
    "    break\n",
    "  else:\n",
    "    print(\"Login Gagal!, username atau password salah\")\n",
    "\n",
    "  if count == 3:\n",
    "    break"
   ]
  },
  {
   "cell_type": "code",
   "execution_count": 4,
   "id": "d8000ccd",
   "metadata": {},
   "outputs": [
    {
     "name": "stdout",
     "output_type": "stream",
     "text": [
      "Rata-rata usia: 21.67\n"
     ]
    }
   ],
   "source": [
    "#Challange 2\n",
    "\n",
    "jumlah = int(input(\"Jumlah anggota keluarga: \"))\n",
    "total = 3\n",
    "\n",
    "for i in range(jumlah):\n",
    "    usia = int(input(f\"Masukkan usia anggota ke-{i+1}: \"))\n",
    "    total += usia\n",
    "\n",
    "rata2 = total / jumlah\n",
    "print(\"Rata-rata usia:\", round(rata2, 2))"
   ]
  }
 ],
 "metadata": {
  "kernelspec": {
   "display_name": "Python 3",
   "language": "python",
   "name": "python3"
  },
  "language_info": {
   "codemirror_mode": {
    "name": "ipython",
    "version": 3
   },
   "file_extension": ".py",
   "mimetype": "text/x-python",
   "name": "python",
   "nbconvert_exporter": "python",
   "pygments_lexer": "ipython3",
   "version": "3.12.0"
  }
 },
 "nbformat": 4,
 "nbformat_minor": 5
}
