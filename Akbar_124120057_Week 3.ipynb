{
  "nbformat": 4,
  "nbformat_minor": 0,
  "metadata": {
    "colab": {
      "provenance": []
    },
    "kernelspec": {
      "name": "python3",
      "display_name": "Python 3"
    },
    "language_info": {
      "name": "python"
    }
  },
  "cells": [
    {
      "cell_type": "markdown",
      "source": [
        "# 01 Fungsi dengan parameter"
      ],
      "metadata": {
        "id": "9590KBaJDuA_"
      }
    },
    {
      "cell_type": "code",
      "execution_count": null,
      "metadata": {
        "id": "uC5EdJk1_RJz"
      },
      "outputs": [],
      "source": [
        "def sapa (nama):\n",
        "  print(f\"halo {nama}, selamat pagi\")\n"
      ]
    },
    {
      "cell_type": "code",
      "source": [
        "nama = \"Akbar\"\n",
        "sapa (nama)"
      ],
      "metadata": {
        "colab": {
          "base_uri": "https://localhost:8080/"
        },
        "id": "9eshVnNrA7xW",
        "outputId": "8aeb08ab-e61f-48de-957c-d57734c617d4"
      },
      "execution_count": 3,
      "outputs": [
        {
          "output_type": "stream",
          "name": "stdout",
          "text": [
            "halo Akbar, selamat pagi\n"
          ]
        }
      ]
    },
    {
      "cell_type": "markdown",
      "source": [
        "# 02 Fungsi tidak menggunakan parameter"
      ],
      "metadata": {
        "id": "HHNoUOPvD11d"
      }
    },
    {
      "cell_type": "code",
      "source": [
        "def luas_persegi(sisi):\n",
        "  luas = sisi * sisi\n",
        "  return luas"
      ],
      "metadata": {
        "id": "PRfqPyXvBOWW"
      },
      "execution_count": null,
      "outputs": []
    },
    {
      "cell_type": "code",
      "source": [
        "luas_persegi(5)\n",
        "\n",
        "print (hasil)"
      ],
      "metadata": {
        "id": "LS5Sebg3Bb46"
      },
      "execution_count": null,
      "outputs": []
    },
    {
      "cell_type": "markdown",
      "source": [
        "# 03 Fungsi menggunakan parameter defaults"
      ],
      "metadata": {
        "id": "EebYFOpUECjw"
      }
    },
    {
      "cell_type": "code",
      "source": [
        "1F = G*(m1*m2/r**2)"
      ],
      "metadata": {
        "id": "r0N8247LCKcB"
      },
      "execution_count": null,
      "outputs": []
    },
    {
      "cell_type": "code",
      "source": [
        "def gaya_gravitasi(m1,m2,r, G=6.7e-11,r):\n",
        "  F = G*(m1*m2/r**2)\n",
        "  return F"
      ],
      "metadata": {
        "id": "cK-z3XCcCVgT"
      },
      "execution_count": null,
      "outputs": []
    },
    {
      "cell_type": "markdown",
      "source": [
        "# 04 Fungsi menggunakan pointer (*)\n"
      ],
      "metadata": {
        "id": "0gNDgqCUEMsN"
      }
    },
    {
      "cell_type": "code",
      "source": [
        "def total (*args):\n",
        "  return sum(args)"
      ],
      "metadata": {
        "id": "NjpVUpt1CVdF"
      },
      "execution_count": null,
      "outputs": []
    },
    {
      "cell_type": "code",
      "source": [
        "args = [1,2,3,4,5]"
      ],
      "metadata": {
        "id": "TR-w3WkTEfPS"
      },
      "execution_count": 20,
      "outputs": []
    },
    {
      "cell_type": "code",
      "source": [
        "total(*args)"
      ],
      "metadata": {
        "id": "t6GBXnSHEoUM"
      },
      "execution_count": null,
      "outputs": []
    },
    {
      "cell_type": "markdown",
      "source": [
        "# Challenge"
      ],
      "metadata": {
        "id": "N39aSfpnJLoH"
      }
    },
    {
      "cell_type": "code",
      "source": [
        "def harga_diskon (harga, min_harga=100000 diskon=20%):\n",
        "  if harga > min_harga:\n",
        "    potongan_harga = (diskon*harga)/100\n",
        "  return harga - potongan_harga"
      ],
      "metadata": {
        "id": "I8yT5MC5FHcj"
      },
      "execution_count": null,
      "outputs": []
    },
    {
      "cell_type": "markdown",
      "source": [
        "# 05 Lamda function"
      ],
      "metadata": {
        "id": "mPVKOyYNJNtH"
      }
    },
    {
      "cell_type": "code",
      "source": [
        "lamda sisi : sisi*sisi\n",
        "\n",
        "print (luas(5)"
      ],
      "metadata": {
        "id": "2VfmytxFJVdA"
      },
      "execution_count": null,
      "outputs": []
    },
    {
      "cell_type": "markdown",
      "source": [
        "# 06 Scope function"
      ],
      "metadata": {
        "id": "YjpNbyHiJ1ds"
      }
    },
    {
      "cell_type": "code",
      "source": [
        "x = 10\n",
        "def ubah():\n",
        "  global x\n",
        "  x = 30\n",
        "ubah ()\n",
        "print(x)"
      ],
      "metadata": {
        "colab": {
          "base_uri": "https://localhost:8080/"
        },
        "id": "E_e8QG4mJ07W",
        "outputId": "cfb268e9-92d2-4467-95c2-46da34b6ce3e"
      },
      "execution_count": 32,
      "outputs": [
        {
          "output_type": "stream",
          "name": "stdout",
          "text": [
            "30\n"
          ]
        }
      ]
    },
    {
      "cell_type": "code",
      "source": [
        "def luar ():\n",
        "  x = \"Python\"\n",
        "  def dalam ():\n",
        "    print ()"
      ],
      "metadata": {
        "id": "W-XQDILWL4Fu"
      },
      "execution_count": null,
      "outputs": []
    },
    {
      "cell_type": "markdown",
      "source": [
        "# 07 Mosularisasi python"
      ],
      "metadata": {
        "id": "FnmUZJf_OJs6"
      }
    },
    {
      "cell_type": "code",
      "source": [],
      "metadata": {
        "id": "y94hakrQOOHk"
      },
      "execution_count": null,
      "outputs": []
    }
  ]
}