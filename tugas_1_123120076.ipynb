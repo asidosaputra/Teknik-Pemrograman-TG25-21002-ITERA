# Fungsi dan Modulasi

# Tugas Teknik Pemrograman 2
# Vivaldi Ruben. P. S
# 123120076

# Fungsi Tanpa Return
def sapa (nama):
  print(f"Halo {nama}, selamat pagi!")
nama = "agus"
sapa(nama) 

# Fungsi dengan Return
def Luas_persegi(sisi):
  luas = sisi * sisi
  return luas
Luas_persegi(4)

# Fungsi Default (gak diubah dari awal), cnth di G
# ctt : Nilai default gak boleh dibagian depan cth: (G=22,m1,m2,r)
#kalau mau yang sisanya juga diubah
# Fungsi Hukum Newton Universal
def gaya_gravitasi(m1, m2, r, G=6.7e-11):
  F = G*(m1*m2/r**2)
  return F
gaya_gravitasi(100,200,0.1)

# Fungsi dengan pointer (*)
# Selama ada (*) bisa dilakukan perhitungan
# kalau jumlah variabelnya gak sama dengan yang didefinisikan
def total(*args):
  return sum(args)
args = total(1,2,3,4,5)
print(args)


# Fungsi Challange 1
# harga = 120000
# harga > 100000 dikasih diskon 20%
def harga_diskon(harga, min_harga = 100000, diskon = 0.2):
  if harga > min_harga:
    potongan_harga = (diskon*harga)/100
  else:
    potongan_harga = 0
  return harga - potongan_harga
harga_diskon(20000)


# fungsi lambda = bisa didefinisikan tanpa nama/variabel
# lambda harus satu baris

kuadarat_lambda = lambda x: x * x
print((kuadarat_lambda(5)))


# Variasi lambda
L_persegi = lambda sisi: sisi * sisi
x = int(input("masukkan nilai"))
print((L_persegi(x)))

# fungsi scope
# scope = area suatu fungsi
# artinya hanya bisa diambil dalam fungsi def yang dibuat

def penjumlahan(x):
  x = 1
  return x
penjumlahan(x)
# contoh 

# menggunakan global
x = 10
def ubah():
  global x 
  x = 30
ubah()
print(x)

import matematika as mtk
a = 5
b = 4
x = mtk.penjumlahan(a,b)
print(x)
