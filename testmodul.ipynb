import konversisuhu as ks
c = 28
F = ks.c_to_f(c)
print(F)

f = 117
c = ks.f_to_c(f)
print(c)
