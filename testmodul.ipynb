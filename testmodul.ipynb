c = float(input("Masukkan suhu dalam Celcius: "))
f = celsius_ke_fahrenheit(c)
k = celsius_ke_kelvin(c)

print(f"Suhu dalam Celcius: {c}")
print(f"Suhu dalam Fahrenheit: {f}")
print(f"Suhu dalam Kelvin: {k}")
