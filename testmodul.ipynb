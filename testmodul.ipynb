import Konversisuhu as ks
C = 31
F = ks.c_to_f(C)
print(F)

F = 125
C = KS.f_to_c(F)
print(C)
