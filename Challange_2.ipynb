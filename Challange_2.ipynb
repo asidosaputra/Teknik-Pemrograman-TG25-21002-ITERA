# Celcius to Fahrenheit
import Konversi_Suhu as KS
C = 20
F = KS.c_to_f(C)
print(f"Suhu {C} setelah dikonversi adalah {F.__round__()}")

# Fahrenheit to Celcius 
import Konversi_Suhu as KS
F = 68
C = KS.f_to_c(F)
print(f"Suhu {F} setelah dikonversi adalah {C.__round__()}")
