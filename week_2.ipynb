{
  "nbformat": 4,
  "nbformat_minor": 0,
  "metadata": {
    "colab": {
      "provenance": []
    },
    "kernelspec": {
      "name": "python3",
      "display_name": "Python 3"
    },
    "language_info": {
      "name": "python"
    }
  },
  "cells": [
    {
      "cell_type": "code",
      "execution_count": null,
      "metadata": {
        "id": "1k3yuXPr1zYR"
      },
      "outputs": [],
      "source": [
        "#Christopher Sianturi --> Ini contoh komentar\n"
      ]
    },
    {
      "cell_type": "code",
      "source": [
        "bilangan = 7\n",
        "\n",
        "if print(bilangan % 2) == 1:\n",
        "    print(\"bilangan ganjil\")\n",
        "    bilangan = bilangan**2\n",
        "    print)(bilangan)\n",
        "\n",
        "elif (bilangan % 2) == 0:\n",
        "    print(\"bilangan genap\")\n",
        "\n",
        "else:\n",
        "    print(\"tidak\")"
      ],
      "metadata": {
        "colab": {
          "base_uri": "https://localhost:8080/"
        },
        "id": "bULP0WzQ2CNR",
        "outputId": "908cdd0c-794d-4ea9-a4ad-467e6c18fee6"
      },
      "execution_count": null,
      "outputs": [
        {
          "output_type": "stream",
          "name": "stdout",
          "text": [
            "1\n"
          ]
        }
      ]
    },
    {
      "cell_type": "code",
      "source": [
        "# Challenge 1: Program Klasifikasi Nilai\n",
        "nilai = int(input(\"Masukkan nilai ujian: \"))\n",
        "\n",
        "if nilai >= 90:\n",
        "    print(\"A\")\n",
        "elif nilai >= 80:\n",
        "    print(\"AB\")\n",
        "elif nilai >= 70:\n",
        "    print(\"B\")\n",
        "elif nilai >= 60:\n",
        "    print(\"BC\")\n",
        "else:\n",
        "    print(\"Grade: C atau di bawahnya\")\n"
      ],
      "metadata": {
        "colab": {
          "base_uri": "https://localhost:8080/"
        },
        "id": "9IGzlCHI5Rnl",
        "outputId": "b83e4812-b2b9-45b6-8aa0-2fc2d4a1e9a9"
      },
      "execution_count": null,
      "outputs": [
        {
          "output_type": "stream",
          "name": "stdout",
          "text": [
            "Masukkan nilai ujian: 89\n",
            "AB\n"
          ]
        }
      ]
    },
    {
      "cell_type": "code",
      "source": [
        "# Challenge 2: Aplikasi Kasir\n",
        "belanja = float(input(\"Masukkan total belanja: Rp \"))\n",
        "\n",
        "if belanja >= 100000:\n",
        "    pakai_kupon = input(\"Apakah mau pakai kupon diskon 20%? (ya/tidak): \").lower()\n",
        "    if pakai_kupon == \"ya\":\n",
        "        belanja = belanja * 0.8  # diskon 20%\n",
        "\n",
        "print(\"Total yang harus dibayar: Rp\", belanja)\n",
        "\n",
        "[]"
      ],
      "metadata": {
        "colab": {
          "base_uri": "https://localhost:8080/"
        },
        "id": "xjKw20-H70F3",
        "outputId": "5117e4c5-2bb6-448c-f2c2-c504b1037156"
      },
      "execution_count": null,
      "outputs": [
        {
          "output_type": "stream",
          "name": "stdout",
          "text": [
            "Masukkan total belanja: Rp 110000\n",
            "Apakah mau pakai kupon diskon 20%? (ya/tidak): ya\n",
            "Total yang harus dibayar: Rp 88000.0\n"
          ]
        },
        {
          "output_type": "execute_result",
          "data": {
            "text/plain": [
              "[]"
            ]
          },
          "metadata": {},
          "execution_count": 11
        }
      ]
    },
    {
      "cell_type": "code",
      "source": [
        "for i in range(0, 100)\n",
        "    if i % 2 == 0:\n",
        "        print(f\"bilangan {i} adalah genap\")\n",
        "    elif i % 2 == 1:\n",
        "        print(f\"bilangan {i} adalah genap\")\n",
        "    else"
      ],
      "metadata": {
        "id": "-d3eDwgJBPDS"
      },
      "execution_count": null,
      "outputs": []
    },
    {
      "cell_type": "code",
      "source": [],
      "metadata": {
        "id": "yYEnzfPZutmK"
      },
      "execution_count": null,
      "outputs": []
    },
    {
      "cell_type": "code",
      "source": [
        "# Perulangan for While do-while\n",
        "for i in range (0, 100, 2):\n",
        "\n",
        "    print(i)"
      ],
      "metadata": {
        "colab": {
          "base_uri": "https://localhost:8080/"
        },
        "id": "_0yo-D8MAkfr",
        "outputId": "50c9c5c0-977b-4ab2-de4e-f3a2754ad472"
      },
      "execution_count": null,
      "outputs": [
        {
          "output_type": "stream",
          "name": "stdout",
          "text": [
            "0\n",
            "2\n",
            "4\n",
            "6\n",
            "8\n",
            "10\n",
            "12\n",
            "14\n",
            "16\n",
            "18\n",
            "20\n",
            "22\n",
            "24\n",
            "26\n",
            "28\n",
            "30\n",
            "32\n",
            "34\n",
            "36\n",
            "38\n",
            "40\n",
            "42\n",
            "44\n",
            "46\n",
            "48\n",
            "50\n",
            "52\n",
            "54\n",
            "56\n",
            "58\n",
            "60\n",
            "62\n",
            "64\n",
            "66\n",
            "68\n",
            "70\n",
            "72\n",
            "74\n",
            "76\n",
            "78\n",
            "80\n",
            "82\n",
            "84\n",
            "86\n",
            "88\n",
            "90\n",
            "92\n",
            "94\n",
            "96\n",
            "98\n"
          ]
        }
      ]
    },
    {
      "cell_type": "code",
      "source": [
        "#simulasi program login\n",
        "for percobaan in range(3):\n",
        "    username = input(\"Masukan Username: \")\n",
        "    password = input(\"masukan Password: \")\n",
        "\n",
        "    if username == \"admin\" and password == \"password17\":\n",
        "        print(\"Login berhasil!\")\n",
        "        break  # Keluar dari loop jika login berhasil\n",
        "    else:\n",
        "        print(\"Username atau password salah. Coba lagi.\")\n",
        "else:\n",
        "    print(\"Anda telah mencoba login sebanyak 3 kali. Akun terkunci.\")"
      ],
      "metadata": {
        "colab": {
          "base_uri": "https://localhost:8080/"
        },
        "id": "fEBtIpKIEa7o",
        "outputId": "a870fe2a-cffb-4aad-a63f-278cfd907fb7"
      },
      "execution_count": null,
      "outputs": [
        {
          "output_type": "stream",
          "name": "stdout",
          "text": [
            "Masukan Username: admin\n",
            "masukan Password: password17\n",
            "Login berhasil!\n"
          ]
        }
      ]
    },
    {
      "cell_type": "code",
      "source": [],
      "metadata": {
        "id": "dG9LPl8tjnTX"
      },
      "execution_count": null,
      "outputs": []
    },
    {
      "cell_type": "code",
      "source": [
        "from ast import Break\n",
        "username = \"admin\"\n",
        "password = \"admin123\"\n",
        "\n",
        "login = True\n",
        "\n",
        "count = 0\n",
        "while login:\n",
        "  input_username = input(\"username :\")\n",
        "  input_password = input(\"password :\")\n",
        "\n",
        "  count = count + 1\n",
        "\n",
        "  if input_username == username and input_password == password:\n",
        "    print(\"Login Berhasil!\")\n",
        "    break\n",
        "  else:\n",
        "    print(\"Login Gagal!, username atau password salah\")\n",
        "\n",
        "  if count == 3:\n",
        "    break"
      ],
      "metadata": {
        "id": "kjo3_FsLHJEN",
        "colab": {
          "base_uri": "https://localhost:8080/"
        },
        "outputId": "8f20b3ff-a0ce-458e-ecff-2d87fe133027"
      },
      "execution_count": null,
      "outputs": [
        {
          "output_type": "stream",
          "name": "stdout",
          "text": [
            "username :admin\n",
            "password :admin123\n",
            "Login Berhasil!\n"
          ]
        }
      ]
    },
    {
      "cell_type": "code",
      "source": [
        "#tugas chalngge 2\n",
        "# Rata rata usia total anggota keluarga\n",
        "total_anggota_keluarga=  int(input(\"Jumlah Anggota Keluarga: \"))\n",
        "total_keseluruhan = 0\n",
        "\n",
        "for jumlah in range(total_anggota_keluarga):\n",
        "  usia = int(input(f\"Usia Anggota Keluarga Ke-({jumlah + 1}): \"))\n",
        "  total_keseluruhan += usia\n",
        "\n",
        "rata_rata_usia = total_keseluruhan / total_anggota_keluarga\n",
        "\n",
        "print(\"Rata-rata usia:\", round(rata_rata_usia, 2))"
      ],
      "metadata": {
        "colab": {
          "base_uri": "https://localhost:8080/"
        },
        "id": "NlFbIGXpqosm",
        "outputId": "40a049bb-d307-469a-bb95-eeb80bd1a48e"
      },
      "execution_count": null,
      "outputs": [
        {
          "output_type": "stream",
          "name": "stdout",
          "text": [
            "Jumlah Anggota Keluarga: 5\n",
            "Usia Anggota Keluarga Ke-(1): 46\n",
            "Usia Anggota Keluarga Ke-(2): 45\n",
            "Usia Anggota Keluarga Ke-(3): 20\n",
            "Usia Anggota Keluarga Ke-(4): 16\n",
            "Usia Anggota Keluarga Ke-(5): 9\n",
            "Rata-rata usia: 27.2\n"
          ]
        }
      ]
    }
  ]
}