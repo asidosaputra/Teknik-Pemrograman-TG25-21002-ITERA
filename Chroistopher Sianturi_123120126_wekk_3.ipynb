{
  "nbformat": 4,
  "nbformat_minor": 0,
  "metadata": {
    "colab": {
      "provenance": [],
      "authorship_tag": "ABX9TyNHmpFNBQCAiHlIBWMDVx3m"
    },
    "kernelspec": {
      "name": "python3",
      "display_name": "Python 3"
    },
    "language_info": {
      "name": "python"
    }
  },
  "cells": [
    {
      "cell_type": "code",
      "source": [
        "npa return"
      ],
      "metadata": {
        "id": "l023ImCFA_Bw"
      },
      "execution_count": null,
      "outputs": []
    },
    {
      "cell_type": "markdown",
      "source": [],
      "metadata": {
        "id": "uZDPNB2uA8ek"
      }
    },
    {
      "cell_type": "code",
      "execution_count": 1,
      "metadata": {
        "id": "5SmGmQd3AOL6"
      },
      "outputs": [],
      "source": [
        "def sapa(nama):\n",
        "    print(f\"Hallo {nama}, selamat pagi!\")"
      ]
    },
    {
      "cell_type": "code",
      "source": [
        "nama = \"Christopher\"\n",
        "sapa(nama)"
      ],
      "metadata": {
        "colab": {
          "base_uri": "https://localhost:8080/"
        },
        "id": "XT1u2rGWApe5",
        "outputId": "33153274-0c2d-4f62-c3bf-1da428e54c98"
      },
      "execution_count": 2,
      "outputs": [
        {
          "output_type": "stream",
          "name": "stdout",
          "text": [
            "Hallo Christopher, selamat pagi!\n"
          ]
        }
      ]
    },
    {
      "cell_type": "markdown",
      "source": [
        "fungsi dengan return\n"
      ],
      "metadata": {
        "id": "LOCydERtBCcn"
      }
    },
    {
      "cell_type": "code",
      "source": [
        "def luas_persegi(sisi):\n",
        "    luas = sisi*sisi\n",
        "    return luas"
      ],
      "metadata": {
        "id": "bh42Cwa3BHHg"
      },
      "execution_count": 8,
      "outputs": []
    },
    {
      "cell_type": "code",
      "source": [
        "hasil = luas_persegi(4)\n",
        "\n",
        "print(hasil)"
      ],
      "metadata": {
        "colab": {
          "base_uri": "https://localhost:8080/"
        },
        "id": "LC76AwQ3Bs8Z",
        "outputId": "7e5464e5-1f7f-44a5-b3b2-682667887eca"
      },
      "execution_count": 9,
      "outputs": [
        {
          "output_type": "stream",
          "name": "stdout",
          "text": [
            "16\n"
          ]
        }
      ]
    },
    {
      "cell_type": "markdown",
      "source": [
        "fungsi dengan partameter defauts"
      ],
      "metadata": {
        "id": "uGqhmI-9EArK"
      }
    },
    {
      "cell_type": "code",
      "source": [
        "def gaya_gravitasi(m1, m2, r, G=6.7e-11):\n",
        "    F = G*(m1*m2/r**2)\n",
        "    return F"
      ],
      "metadata": {
        "id": "MLoLwBFADplR"
      },
      "execution_count": 20,
      "outputs": []
    },
    {
      "cell_type": "code",
      "source": [
        "gaya_gravitasi(100, 200, 0.1, G=100)"
      ],
      "metadata": {
        "colab": {
          "base_uri": "https://localhost:8080/"
        },
        "id": "DKIPJXlbDyDn",
        "outputId": "9bef40e3-299d-4492-8436-db25d69fe298"
      },
      "execution_count": 21,
      "outputs": [
        {
          "output_type": "execute_result",
          "data": {
            "text/plain": [
              "199999999.99999994"
            ]
          },
          "metadata": {},
          "execution_count": 21
        }
      ]
    },
    {
      "cell_type": "markdown",
      "source": [
        "fungsi dengan pointer"
      ],
      "metadata": {
        "id": "LLTFr_N2ENtZ"
      }
    },
    {
      "cell_type": "code",
      "source": [
        "def total(*args):\n",
        "  return sum(args)"
      ],
      "metadata": {
        "id": "JXFTKN-xEOoz"
      },
      "execution_count": 24,
      "outputs": []
    },
    {
      "cell_type": "code",
      "source": [
        "args = total(1, 2, 3, 4, 5)"
      ],
      "metadata": {
        "id": "5NIqFW0TEbCC"
      },
      "execution_count": 25,
      "outputs": []
    },
    {
      "cell_type": "code",
      "source": [
        "print(args)"
      ],
      "metadata": {
        "colab": {
          "base_uri": "https://localhost:8080/"
        },
        "id": "3-_wR5vTEhsQ",
        "outputId": "33599bc3-0473-45d4-e2fa-ac984e7e84f1"
      },
      "execution_count": 26,
      "outputs": [
        {
          "output_type": "stream",
          "name": "stdout",
          "text": [
            "15\n"
          ]
        }
      ]
    },
    {
      "cell_type": "code",
      "source": [
        "Harga = 120.000\n",
        "Harga > 100.000 -> 20%\n",
        "\n",
        "Buat fungsi untuk mengembalikan\n",
        "harga akhir setelah di potong\n"
      ],
      "metadata": {
        "id": "EIxLZ3PbFXU-"
      },
      "execution_count": null,
      "outputs": []
    },
    {
      "cell_type": "code",
      "source": [
        "def hitung_harga(harga, min_harga=100000, diskon=20) :\n",
        "    if harga > min_harga:\n",
        "        potongan\n",
        "    # Diskon 20% jika harga > 100000, jika tidak 0\n",
        "    diskon = 0.2 * harga * (harga > 100000)\n",
        "    return harga - diskon"
      ],
      "metadata": {
        "id": "4lOcCt6nGAOK"
      },
      "execution_count": 29,
      "outputs": []
    },
    {
      "cell_type": "markdown",
      "source": [
        "05. lamda function"
      ],
      "metadata": {
        "id": "_L7pnUldIrxH"
      }
    },
    {
      "cell_type": "code",
      "source": [
        "luas = lambda  sisi : sisi*sisi\n",
        "print(luas(10))\n"
      ],
      "metadata": {
        "colab": {
          "base_uri": "https://localhost:8080/"
        },
        "id": "Jsj8LKy8Iu6I",
        "outputId": "20220d83-60a3-4443-e3b6-cc3e0e854e28"
      },
      "execution_count": 30,
      "outputs": [
        {
          "output_type": "stream",
          "name": "stdout",
          "text": [
            "100\n"
          ]
        }
      ]
    },
    {
      "cell_type": "markdown",
      "source": [
        "06 scope"
      ],
      "metadata": {
        "id": "gr-S3efTL3BX"
      }
    },
    {
      "cell_type": "code",
      "source": [
        "x = 10\n",
        "\n",
        "def ubah():\n",
        "  global x\n",
        "  x = 30\n",
        "\n",
        "ubah()\n",
        "print(x)"
      ],
      "metadata": {
        "colab": {
          "base_uri": "https://localhost:8080/"
        },
        "id": "w5LnP1NdL7LX",
        "outputId": "5eb338b8-adb6-4a77-bed2-1f244971cc00"
      },
      "execution_count": 31,
      "outputs": [
        {
          "output_type": "stream",
          "name": "stdout",
          "text": [
            "30\n"
          ]
        }
      ]
    }
  ]
}