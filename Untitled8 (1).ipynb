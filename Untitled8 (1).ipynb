{
  "nbformat": 4,
  "nbformat_minor": 0,
  "metadata": {
    "colab": {
      "provenance": []
    },
    "kernelspec": {
      "name": "python3",
      "display_name": "Python 3"
    },
    "language_info": {
      "name": "python"
    }
  },
  "cells": [
    {
      "cell_type": "markdown",
      "source": [
        "01 if statement"
      ],
      "metadata": {
        "id": "C-truHJG1mj4"
      }
    },
    {
      "cell_type": "code",
      "source": [
        "bilangan = 9\n",
        "\n",
        "if print(bilangan % 2) == 5:\n",
        "    print(\"bilangan ganjil\")\n",
        "    bilangan = bilangan**2\n",
        "    print(bilangan)\n",
        "\n",
        "elif (bilangan % 2) == 0:\n",
        "    print(\"bilangan genap\")\n",
        "\n",
        "else:\n",
        "    print(\"tidak termasuk bilangan genap\")\n",
        ""
      ],
      "metadata": {
        "colab": {
          "base_uri": "https://localhost:8080/"
        },
        "id": "D31kys1G4JJZ",
        "outputId": "928fd834-523a-468b-cb44-67622c1abb2b"
      },
      "execution_count": 12,
      "outputs": [
        {
          "output_type": "stream",
          "name": "stdout",
          "text": [
            "1\n",
            "tidak termasuk bilangan genap\n"
          ]
        }
      ]
    },
    {
      "cell_type": "code",
      "source": [
        "nilai = 90\n",
        "\n",
        "if nilai >=90:\n",
        "  print (\"A\")\n",
        "elif nilai >=80:\n",
        "  print (\"AB\")\n",
        "elif nilai >=70:\n",
        "  print (\"B\")\n",
        "elif nilai >= 60:\n",
        "  print (\"C\")"
      ],
      "metadata": {
        "colab": {
          "base_uri": "https://localhost:8080/"
        },
        "id": "gx_kQP8g403_",
        "outputId": "bdc58a92-1ffe-4896-bc26-21c46ea9b9b6"
      },
      "execution_count": null,
      "outputs": [
        {
          "output_type": "stream",
          "name": "stdout",
          "text": [
            "A\n"
          ]
        }
      ]
    },
    {
      "cell_type": "code",
      "source": [
        "Belanja = 110000\n",
        "pake_kupon = True\n",
        "\n",
        "if Belanja >= 100000:\n",
        "  if pake_kupon:\n",
        "    diskon = 0.2*Belanja\n",
        "    print(f\"Total diskon adalah {diskon}, Terimakasih!\")\n",
        "    Belanja = Belanja - diskon\n",
        "    print(\"total belanja : \", Belanja)\n",
        "\n",
        "  else:\n",
        "    print(\"total belanja : \", Belanja)\n",
        "\n",
        "else:\n",
        "  print(\"Belanja kurang dari 100.000\")\n"
      ],
      "metadata": {
        "colab": {
          "base_uri": "https://localhost:8080/"
        },
        "id": "ptBXeWYY7DFH",
        "outputId": "22c99c04-bb0a-402c-f263-4822ee7d1794"
      },
      "execution_count": null,
      "outputs": [
        {
          "output_type": "stream",
          "name": "stdout",
          "text": [
            "Total diskon adalah 22000.0, Terimakasih!\n",
            "total belanja :  88000.0\n"
          ]
        }
      ]
    },
    {
      "cell_type": "code",
      "source": [
        "for i in range(0, 110, 10):\n",
        "    print(i)"
      ],
      "metadata": {
        "colab": {
          "base_uri": "https://localhost:8080/"
        },
        "id": "1O2yS1Oj_9aX",
        "outputId": "08b82e85-58dd-4c70-9ca2-331148d0de0b"
      },
      "execution_count": null,
      "outputs": [
        {
          "output_type": "stream",
          "name": "stdout",
          "text": [
            "0\n",
            "10\n",
            "20\n",
            "30\n",
            "40\n",
            "50\n",
            "60\n",
            "70\n",
            "80\n",
            "90\n",
            "100\n"
          ]
        }
      ]
    },
    {
      "cell_type": "code",
      "source": [
        "i=0\n",
        "while i >=0:\n",
        "  i = i + 1\n",
        "  print (i)\n",
        "  if  i>=100:\n",
        "    break"
      ],
      "metadata": {
        "colab": {
          "base_uri": "https://localhost:8080/"
        },
        "id": "Sp7vW21ZBH8D",
        "outputId": "2d330e69-f7b5-4461-cbe5-507432216cdc"
      },
      "execution_count": 1,
      "outputs": [
        {
          "output_type": "stream",
          "name": "stdout",
          "text": [
            "1\n",
            "2\n",
            "3\n",
            "4\n",
            "5\n",
            "6\n",
            "7\n",
            "8\n",
            "9\n",
            "10\n",
            "11\n",
            "12\n",
            "13\n",
            "14\n",
            "15\n",
            "16\n",
            "17\n",
            "18\n",
            "19\n",
            "20\n",
            "21\n",
            "22\n",
            "23\n",
            "24\n",
            "25\n",
            "26\n",
            "27\n",
            "28\n",
            "29\n",
            "30\n",
            "31\n",
            "32\n",
            "33\n",
            "34\n",
            "35\n",
            "36\n",
            "37\n",
            "38\n",
            "39\n",
            "40\n",
            "41\n",
            "42\n",
            "43\n",
            "44\n",
            "45\n",
            "46\n",
            "47\n",
            "48\n",
            "49\n",
            "50\n",
            "51\n",
            "52\n",
            "53\n",
            "54\n",
            "55\n",
            "56\n",
            "57\n",
            "58\n",
            "59\n",
            "60\n",
            "61\n",
            "62\n",
            "63\n",
            "64\n",
            "65\n",
            "66\n",
            "67\n",
            "68\n",
            "69\n",
            "70\n",
            "71\n",
            "72\n",
            "73\n",
            "74\n",
            "75\n",
            "76\n",
            "77\n",
            "78\n",
            "79\n",
            "80\n",
            "81\n",
            "82\n",
            "83\n",
            "84\n",
            "85\n",
            "86\n",
            "87\n",
            "88\n",
            "89\n",
            "90\n",
            "91\n",
            "92\n",
            "93\n",
            "94\n",
            "95\n",
            "96\n",
            "97\n",
            "98\n",
            "99\n",
            "100\n"
          ]
        }
      ]
    },
    {
      "cell_type": "code",
      "source": [
        "\n",
        "from ast import Break\n",
        "username = \"Dimas\"\n",
        "password = \"Dimas123\"\n",
        "\n",
        "login = True\n",
        "\n",
        "count = 0\n",
        "while login:\n",
        "  input_username = input(\"username :\")\n",
        "  input_password = input(\"password :\")\n",
        "\n",
        "  count = count + 1\n",
        "\n",
        "  if input_username == username and input_password == password:\n",
        "    print(\"Login Berhasil!\")\n",
        "    break\n",
        "  else:\n",
        "    print(\"Login Gagal!, username atau password salah\")\n",
        "\n",
        "  if count == 3:\n",
        "    break\n",
        "\n",
        "\n"
      ],
      "metadata": {
        "colab": {
          "base_uri": "https://localhost:8080/"
        },
        "id": "RaZiuznMDW6J",
        "outputId": "ae395a6f-badf-433e-ad06-344a08eea0cc"
      },
      "execution_count": 2,
      "outputs": [
        {
          "output_type": "stream",
          "name": "stdout",
          "text": [
            "username :Dimas\n",
            "password :Dimas123\n",
            "Login Berhasil!\n"
          ]
        }
      ]
    },
    {
      "cell_type": "code",
      "source": [
        "for i in range (0,50,1):\n",
        "  if i % 2 ==0:\n",
        "    print (f\"bil{i}  genap\")\n",
        "  elif i % 2 != 0:\n",
        "    print(f\"bil{i}  ganjil\")\n",
        "  else:\n",
        "    print(f\"bil{i} bukan bilangan bulat \")"
      ],
      "metadata": {
        "colab": {
          "base_uri": "https://localhost:8080/"
        },
        "id": "gwT_qzK7sV5A",
        "outputId": "6f221c6f-b625-49e5-c969-63484cbe014d"
      },
      "execution_count": 14,
      "outputs": [
        {
          "output_type": "stream",
          "name": "stdout",
          "text": [
            "bil0  genap\n",
            "bil1  ganjil\n",
            "bil2  genap\n",
            "bil3  ganjil\n",
            "bil4  genap\n",
            "bil5  ganjil\n",
            "bil6  genap\n",
            "bil7  ganjil\n",
            "bil8  genap\n",
            "bil9  ganjil\n",
            "bil10  genap\n",
            "bil11  ganjil\n",
            "bil12  genap\n",
            "bil13  ganjil\n",
            "bil14  genap\n",
            "bil15  ganjil\n",
            "bil16  genap\n",
            "bil17  ganjil\n",
            "bil18  genap\n",
            "bil19  ganjil\n",
            "bil20  genap\n",
            "bil21  ganjil\n",
            "bil22  genap\n",
            "bil23  ganjil\n",
            "bil24  genap\n",
            "bil25  ganjil\n",
            "bil26  genap\n",
            "bil27  ganjil\n",
            "bil28  genap\n",
            "bil29  ganjil\n",
            "bil30  genap\n",
            "bil31  ganjil\n",
            "bil32  genap\n",
            "bil33  ganjil\n",
            "bil34  genap\n",
            "bil35  ganjil\n",
            "bil36  genap\n",
            "bil37  ganjil\n",
            "bil38  genap\n",
            "bil39  ganjil\n",
            "bil40  genap\n",
            "bil41  ganjil\n",
            "bil42  genap\n",
            "bil43  ganjil\n",
            "bil44  genap\n",
            "bil45  ganjil\n",
            "bil46  genap\n",
            "bil47  ganjil\n",
            "bil48  genap\n",
            "bil49  ganjil\n"
          ]
        }
      ]
    },
    {
      "cell_type": "code",
      "source": [
        "# Tugas / chalenge 2\n",
        "# rata rata usia total pemain bola\n",
        "total_pemain_bola = int (input(\"jumlah pemain bola: \"))\n",
        "total_keseluruhan = 0\n",
        "for jumlah in range (total_pemain_bola):\n",
        "  usia = int (input(f\" usia pemain bola ke-{jumlah + 1:}\"))\n",
        "  total_keseluruhan += usia\n",
        "\n",
        "  rata_rata = total_keseluruhan / total_pemain_bola\n",
        "  print (\"rata rata usia:\", round(rata_rata, 2))"
      ],
      "metadata": {
        "colab": {
          "base_uri": "https://localhost:8080/"
        },
        "id": "p1qbshub7A-N",
        "outputId": "062c2b4f-4775-467a-b512-404b2f5c5c27"
      },
      "execution_count": 25,
      "outputs": [
        {
          "output_type": "stream",
          "name": "stdout",
          "text": [
            "jumlah pemain bola: 4\n",
            " usia pemain bola ke-14\n",
            "rata rata usia: 1.0\n",
            " usia pemain bola ke-24\n",
            "rata rata usia: 2.0\n",
            " usia pemain bola ke-34\n",
            "rata rata usia: 3.0\n",
            " usia pemain bola ke-44\n",
            "rata rata usia: 4.0\n"
          ]
        }
      ]
    }
  ]
}