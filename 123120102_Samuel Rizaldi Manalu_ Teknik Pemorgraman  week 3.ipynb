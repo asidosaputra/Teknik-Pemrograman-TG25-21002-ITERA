{
 "cells": [
  {
   "cell_type": "markdown",
   "id": "314b8144",
   "metadata": {},
   "source": [
    "# Teknik Pemrograman Week 3\n",
    "# Samuel Rizaldi Manalu\n"
   ]
  },
  {
   "cell_type": "code",
   "execution_count": null,
   "id": "d7fc4c11",
   "metadata": {},
   "outputs": [
    {
     "name": "stdout",
     "output_type": "stream",
     "text": [
      "Halo Samuel, selamat sore!\n"
     ]
    }
   ],
   "source": [
    "# 1. Fungsi Tanpa Return\n",
    "def sapa(nama):\n",
    "    print(f\"Halo {nama}, selamat sore!\")\n",
    "nama = \"Samuel\"\n",
    "sapa(nama)\n",
    "\n"
   ]
  },
  {
   "cell_type": "code",
   "execution_count": 5,
   "id": "943c9996",
   "metadata": {},
   "outputs": [
    {
     "name": "stdout",
     "output_type": "stream",
     "text": [
      "Luas persegi dengan sisi 10 cm adalah 100 cm2\n"
     ]
    }
   ],
   "source": [
    "#2. Fungsi Dengan Return\n",
    "def luas_persegi(sisi):\n",
    "    luas = sisi*sisi\n",
    "    return luas\n",
    "sisi = 10\n",
    "print(f\"Luas persegi dengan sisi {sisi} cm adalah {luas_persegi(sisi)} cm2\")"
   ]
  },
  {
   "cell_type": "code",
   "execution_count": null,
   "id": "abfd6cb9",
   "metadata": {},
   "outputs": [
    {
     "data": {
      "text/plain": [
       "199999999.99999994"
      ]
     },
     "execution_count": 11,
     "metadata": {},
     "output_type": "execute_result"
    }
   ],
   "source": [
    "#3. FUngsi dengan Paraameter Default\n",
    "def gaya_gravitasi(m1,m2,r,G=6.674*10**11):\n",
    "    f = G*(m1*m2/r**2)\n",
    "    return f\n",
    "gaya_gravitasi(100,200,0.1, G=100)"
   ]
  },
  {
   "cell_type": "code",
   "execution_count": 21,
   "id": "2c02bae1",
   "metadata": {},
   "outputs": [
    {
     "name": "stdout",
     "output_type": "stream",
     "text": [
      "28\n"
     ]
    }
   ],
   "source": [
    "# 4. Fungsi dengan Konsep Pointer(*)\n",
    "def total(*args):\n",
    "  return sum(args)\n",
    "args = total(1,2,3,4,5,6,7)\n",
    "print(args)\n",
    "\n"
   ]
  },
  {
   "cell_type": "code",
   "execution_count": 58,
   "id": "cce84b42",
   "metadata": {},
   "outputs": [
    {
     "data": {
      "text/plain": [
       "120000.0"
      ]
     },
     "execution_count": 58,
     "metadata": {},
     "output_type": "execute_result"
    }
   ],
   "source": [
    "# 5 challenge 1 Fungsi  untuk menghitung discount\n",
    "def harga_discount(harga,min_harga=100000,discount=20):\n",
    "    if harga > min_harga:\n",
    "        potongan_harga = discount*harga/100\n",
    "    else:\n",
    "        potongan_harga = 0\n",
    "    return harga-potongan_harga\n",
    "harga_discount(150000)\n",
    "     \n",
    "    \n"
   ]
  },
  {
   "cell_type": "code",
   "execution_count": null,
   "id": "71a1ea70",
   "metadata": {},
   "outputs": [],
   "source": [
    "# 6. Lambda Function\n",
    "luas = lambda sisi: sisi*sisi\n",
    "\n",
    "x = int(input(\"Masukkan nilai sisi\"))\n",
    "print(Luas(x))"
   ]
  },
  {
   "cell_type": "code",
   "execution_count": 1,
   "id": "7f2eab22",
   "metadata": {},
   "outputs": [
    {
     "name": "stdout",
     "output_type": "stream",
     "text": [
      "150\n"
     ]
    }
   ],
   "source": [
    "# 7. Fungsi Scoope / Konsep Scoope / Variable Local dan Global\n",
    "x = 110\n",
    "\n",
    "def ubah():\n",
    "    global x\n",
    "    x = 150\n",
    "\n",
    "ubah()\n",
    "print(x)\n",
    "\n"
   ]
  },
  {
   "cell_type": "code",
   "execution_count": null,
   "id": "934b55c5",
   "metadata": {},
   "outputs": [],
   "source": [
    "def luar():\n",
    "    x = \"python\"\n",
    "    def dalam():\n",
    "        print(\"dalam:\",x)\n"
   ]
  }
 ],
 "metadata": {
  "kernelspec": {
   "display_name": "Python 3",
   "language": "python",
   "name": "python3"
  },
  "language_info": {
   "codemirror_mode": {
    "name": "ipython",
    "version": 3
   },
   "file_extension": ".py",
   "mimetype": "text/x-python",
   "name": "python",
   "nbconvert_exporter": "python",
   "pygments_lexer": "ipython3",
   "version": "3.13.2"
  }
 },
 "nbformat": 4,
 "nbformat_minor": 5
}
